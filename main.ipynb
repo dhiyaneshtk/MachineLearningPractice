{
 "cells": [
  {
   "metadata": {
    "ExecuteTime": {
     "end_time": "2025-01-30T21:51:49.370246Z",
     "start_time": "2025-01-30T21:51:49.367903Z"
    }
   },
   "cell_type": "code",
   "source": [
    "import numpy as np\n",
    "import matplotlib.pyplot as plt\n",
    "import pandas as pd\n",
    "import math, copy"
   ],
   "id": "92afec1956f7b8d6",
   "outputs": [],
   "execution_count": 129
  },
  {
   "metadata": {
    "ExecuteTime": {
     "end_time": "2025-01-30T21:51:50.488146Z",
     "start_time": "2025-01-30T21:51:50.416795Z"
    }
   },
   "cell_type": "code",
   "source": [
    "prop = pd.read_csv('uae-real-estate.csv')\n",
    "prop.head() #5"
   ],
   "id": "d2ceb9ee071b76c0",
   "outputs": [
    {
     "data": {
      "text/plain": [
       "                                                Name      B_type   Latitude  \\\n",
       "0   Elegant Unit| Golf Views| High-Floor| Prime Area   Apartment  24.463860   \n",
       "1    Sea & City View |  Full Facilities | Prime Area   Apartment  24.487354   \n",
       "2  Hot Offer|Furnished 2BR+M|Full Sea View|High F...   Apartment  24.492602   \n",
       "3  Amazing Deal| Huge Layout | Big Terrace| Inves...   Apartment  24.484639   \n",
       "4  Luxurious Lifestyl|Exclusive Amenities|Invest Now   Apartment  24.538734   \n",
       "\n",
       "   Longitude   Area  Bedrooms  Bathrooms       City         District     Price  \n",
       "0  54.595603    747         0          1  Abu Dhabi       Yas Island   1300000  \n",
       "1  54.395122  1,524         2          3  Abu Dhabi   Al Reem Island   1700000  \n",
       "2  54.392677  1,615         2          3  Abu Dhabi   Al Reem Island   1650000  \n",
       "3  54.404103  1,220         1          2  Abu Dhabi   Al Reem Island    800000  \n",
       "4  54.410601  5,315         4          5  Abu Dhabi  Saadiyat Island  19000000  "
      ],
      "text/html": [
       "<div>\n",
       "<style scoped>\n",
       "    .dataframe tbody tr th:only-of-type {\n",
       "        vertical-align: middle;\n",
       "    }\n",
       "\n",
       "    .dataframe tbody tr th {\n",
       "        vertical-align: top;\n",
       "    }\n",
       "\n",
       "    .dataframe thead th {\n",
       "        text-align: right;\n",
       "    }\n",
       "</style>\n",
       "<table border=\"1\" class=\"dataframe\">\n",
       "  <thead>\n",
       "    <tr style=\"text-align: right;\">\n",
       "      <th></th>\n",
       "      <th>Name</th>\n",
       "      <th>B_type</th>\n",
       "      <th>Latitude</th>\n",
       "      <th>Longitude</th>\n",
       "      <th>Area</th>\n",
       "      <th>Bedrooms</th>\n",
       "      <th>Bathrooms</th>\n",
       "      <th>City</th>\n",
       "      <th>District</th>\n",
       "      <th>Price</th>\n",
       "    </tr>\n",
       "  </thead>\n",
       "  <tbody>\n",
       "    <tr>\n",
       "      <th>0</th>\n",
       "      <td>Elegant Unit| Golf Views| High-Floor| Prime Area</td>\n",
       "      <td>Apartment</td>\n",
       "      <td>24.463860</td>\n",
       "      <td>54.595603</td>\n",
       "      <td>747</td>\n",
       "      <td>0</td>\n",
       "      <td>1</td>\n",
       "      <td>Abu Dhabi</td>\n",
       "      <td>Yas Island</td>\n",
       "      <td>1300000</td>\n",
       "    </tr>\n",
       "    <tr>\n",
       "      <th>1</th>\n",
       "      <td>Sea &amp; City View |  Full Facilities | Prime Area</td>\n",
       "      <td>Apartment</td>\n",
       "      <td>24.487354</td>\n",
       "      <td>54.395122</td>\n",
       "      <td>1,524</td>\n",
       "      <td>2</td>\n",
       "      <td>3</td>\n",
       "      <td>Abu Dhabi</td>\n",
       "      <td>Al Reem Island</td>\n",
       "      <td>1700000</td>\n",
       "    </tr>\n",
       "    <tr>\n",
       "      <th>2</th>\n",
       "      <td>Hot Offer|Furnished 2BR+M|Full Sea View|High F...</td>\n",
       "      <td>Apartment</td>\n",
       "      <td>24.492602</td>\n",
       "      <td>54.392677</td>\n",
       "      <td>1,615</td>\n",
       "      <td>2</td>\n",
       "      <td>3</td>\n",
       "      <td>Abu Dhabi</td>\n",
       "      <td>Al Reem Island</td>\n",
       "      <td>1650000</td>\n",
       "    </tr>\n",
       "    <tr>\n",
       "      <th>3</th>\n",
       "      <td>Amazing Deal| Huge Layout | Big Terrace| Inves...</td>\n",
       "      <td>Apartment</td>\n",
       "      <td>24.484639</td>\n",
       "      <td>54.404103</td>\n",
       "      <td>1,220</td>\n",
       "      <td>1</td>\n",
       "      <td>2</td>\n",
       "      <td>Abu Dhabi</td>\n",
       "      <td>Al Reem Island</td>\n",
       "      <td>800000</td>\n",
       "    </tr>\n",
       "    <tr>\n",
       "      <th>4</th>\n",
       "      <td>Luxurious Lifestyl|Exclusive Amenities|Invest Now</td>\n",
       "      <td>Apartment</td>\n",
       "      <td>24.538734</td>\n",
       "      <td>54.410601</td>\n",
       "      <td>5,315</td>\n",
       "      <td>4</td>\n",
       "      <td>5</td>\n",
       "      <td>Abu Dhabi</td>\n",
       "      <td>Saadiyat Island</td>\n",
       "      <td>19000000</td>\n",
       "    </tr>\n",
       "  </tbody>\n",
       "</table>\n",
       "</div>"
      ]
     },
     "execution_count": 130,
     "metadata": {},
     "output_type": "execute_result"
    }
   ],
   "execution_count": 130
  },
  {
   "metadata": {
    "ExecuteTime": {
     "end_time": "2025-01-30T21:51:52.319010Z",
     "start_time": "2025-01-30T21:51:52.309616Z"
    }
   },
   "cell_type": "code",
   "source": [
    "df = pd.DataFrame(prop,columns=['Area','Price'])\n",
    "print(df)"
   ],
   "id": "9e943e4377960388",
   "outputs": [
    {
     "name": "stdout",
     "output_type": "stream",
     "text": [
      "         Area     Price\n",
      "0         747   1300000\n",
      "1       1,524   1700000\n",
      "2       1,615   1650000\n",
      "3       1,220    800000\n",
      "4       5,315  19000000\n",
      "...       ...       ...\n",
      "29900   3,702   7250000\n",
      "29901   2,110   3187000\n",
      "29902   1,964   2250000\n",
      "29903  18,000   6500000\n",
      "29904   2,477   2400000\n",
      "\n",
      "[29905 rows x 2 columns]\n"
     ]
    }
   ],
   "execution_count": 131
  },
  {
   "metadata": {
    "ExecuteTime": {
     "end_time": "2025-01-30T21:53:11.128574Z",
     "start_time": "2025-01-30T21:53:11.108497Z"
    }
   },
   "cell_type": "code",
   "source": [
    "x_train = np.array([(int(i.replace(',', '')))/1000 for i in prop[\"Area\"].to_numpy()]).astype(float)\n",
    "y_train = np.array([(i/100000) for i in prop[\"Price\"].to_numpy()]).astype(float)\n",
    "print(x_train)\n",
    "print(y_train)"
   ],
   "id": "b3d037b07c2aa43",
   "outputs": [
    {
     "name": "stdout",
     "output_type": "stream",
     "text": [
      "[ 0.747  1.524  1.615 ...  1.964 18.     2.477]\n",
      "[13.  17.  16.5 ... 22.5 65.  24. ]\n"
     ]
    }
   ],
   "execution_count": 145
  },
  {
   "metadata": {
    "ExecuteTime": {
     "end_time": "2025-01-30T21:51:55.604892Z",
     "start_time": "2025-01-30T21:51:55.599995Z"
    }
   },
   "cell_type": "code",
   "source": [
    "m = len(x_train)\n",
    "print(f\"Number of training examples is: {m}\")"
   ],
   "id": "3af8076013224c8",
   "outputs": [
    {
     "name": "stdout",
     "output_type": "stream",
     "text": [
      "Number of training examples is: 29905\n"
     ]
    }
   ],
   "execution_count": 133
  },
  {
   "metadata": {
    "ExecuteTime": {
     "end_time": "2025-01-30T21:51:56.814792Z",
     "start_time": "2025-01-30T21:51:56.696493Z"
    }
   },
   "cell_type": "code",
   "source": [
    "plt.scatter(x_train, y_train, marker='.', c='r')\n",
    "plt.title(\"Housing Prices\")\n",
    "plt.ylabel('Price (in dhirams)')\n",
    "plt.xlabel('Size (sqm)')"
   ],
   "id": "9bf4b0a7b53321a5",
   "outputs": [
    {
     "data": {
      "text/plain": [
       "Text(0.5, 0, 'Size (sqm)')"
      ]
     },
     "execution_count": 134,
     "metadata": {},
     "output_type": "execute_result"
    },
    {
     "data": {
      "text/plain": [
       "<Figure size 640x480 with 1 Axes>"
      ],
      "image/png": "[encoded data removed]"
     },
     "metadata": {},
     "output_type": "display_data"
    }
   ],
   "execution_count": 134
  },
  {
   "metadata": {
    "ExecuteTime": {
     "end_time": "2025-01-30T21:59:55.603058Z",
     "start_time": "2025-01-30T21:59:55.580115Z"
    }
   },
   "cell_type": "code",
   "source": [
    "tmp_w = 18.1999\n",
    "tmp_b = -10.4064"
   ],
   "id": "28cb9557a145d511",
   "outputs": [],
   "execution_count": 173
  },
  {
   "metadata": {
    "ExecuteTime": {
     "end_time": "2025-01-30T21:59:56.587856Z",
     "start_time": "2025-01-30T21:59:56.579629Z"
    }
   },
   "cell_type": "code",
   "source": [
    "def compute_model_output(x, w, b):\n",
    "\n",
    "    m = x.shape[0]\n",
    "    f_wb = np.zeros(m)\n",
    "    for i in range(m):\n",
    "        f_wb[i] = w * x[i] + b\n",
    "\n",
    "    return f_wb"
   ],
   "id": "555e08fcfb8b09c8",
   "outputs": [],
   "execution_count": 174
  },
  {
   "metadata": {
    "ExecuteTime": {
     "end_time": "2025-01-30T21:59:57.985786Z",
     "start_time": "2025-01-30T21:59:57.973847Z"
    }
   },
   "cell_type": "code",
   "source": [
    "tmp_f_wb = compute_model_output(x_train, tmp_w, tmp_b)\n",
    "print(tmp_f_wb)"
   ],
   "id": "e5e902301fb9bda4",
   "outputs": [
    {
     "name": "stdout",
     "output_type": "stream",
     "text": [
      "[  3.1889253  17.3302476  18.9864385 ...  25.3382036 317.1918\n",
      "  34.6747523]\n"
     ]
    }
   ],
   "execution_count": 175
  },
  {
   "metadata": {
    "ExecuteTime": {
     "end_time": "2025-01-30T21:59:59.202787Z",
     "start_time": "2025-01-30T21:59:59.108298Z"
    }
   },
   "cell_type": "code",
   "source": [
    "plt.plot(x_train, tmp_f_wb, c='b',label='Our Prediction')\n",
    "plt.scatter(x_train, y_train, marker='.', c='r',label='Actual Values')\n",
    "plt.title(\"Housing Prices\")\n",
    "plt.ylabel('Price (in 1000s of dollars)')\n",
    "plt.show()"
   ],
   "id": "43a454eb2cf1e4ba",
   "outputs": [
    {
     "data": {
      "text/plain": [
       "<Figure size 640x480 with 1 Axes>"
      ],
      "image/png": "[encoded data removed]"
     },
     "metadata": {},
     "output_type": "display_data"
    }
   ],
   "execution_count": 176
  },
  {
   "metadata": {
    "ExecuteTime": {
     "end_time": "2025-01-30T21:54:39.444444Z",
     "start_time": "2025-01-30T21:54:39.438541Z"
    }
   },
   "cell_type": "code",
   "source": [
    "def compute_cost(x, y, w, b):\n",
    "    m = x.shape[0]\n",
    "\n",
    "    cost_sum = 0\n",
    "    for i in range(m):\n",
    "        f_wb = w * x[i] + b\n",
    "        cost = (f_wb - y[i]) ** 2\n",
    "        cost_sum = cost_sum + cost\n",
    "    total_cost = (1 / (2 * m)) * cost_sum\n",
    "\n",
    "    return total_cost"
   ],
   "id": "9cc7ce53b25fc854",
   "outputs": [],
   "execution_count": 167
  },
  {
   "metadata": {
    "ExecuteTime": {
     "end_time": "2025-01-30T21:54:41.084473Z",
     "start_time": "2025-01-30T21:54:41.066359Z"
    }
   },
   "cell_type": "code",
   "source": [
    "total = compute_cost(x_train, y_train, tmp_w, tmp_b)\n",
    "print(total)"
   ],
   "id": "5f770a11f874efc7",
   "outputs": [
    {
     "name": "stdout",
     "output_type": "stream",
     "text": [
      "74607.69067243881\n"
     ]
    }
   ],
   "execution_count": 168
  },
  {
   "metadata": {
    "ExecuteTime": {
     "end_time": "2025-01-30T21:54:45.637378Z",
     "start_time": "2025-01-30T21:54:45.620030Z"
    }
   },
   "cell_type": "code",
   "source": [
    "def compute_gradient(x, y, w, b):\n",
    "    m = x.shape[0]\n",
    "    dj_dw = 0\n",
    "    dj_db = 0\n",
    "\n",
    "    for i in range(m):\n",
    "        f_wb = w * x[i] + b\n",
    "        dj_dw_i = (f_wb - y[i]) * x[i]\n",
    "        dj_db_i = f_wb - y[i]\n",
    "        dj_db += dj_db_i\n",
    "        dj_dw += dj_dw_i\n",
    "\n",
    "    dj_dw = dj_dw / m\n",
    "    dj_db = dj_db / m\n",
    "\n",
    "    return dj_dw, dj_db"
   ],
   "id": "4e4ee79ad8ec2aab",
   "outputs": [],
   "execution_count": 169
  },
  {
   "metadata": {
    "ExecuteTime": {
     "end_time": "2025-01-30T21:54:48.070071Z",
     "start_time": "2025-01-30T21:54:48.053457Z"
    }
   },
   "cell_type": "code",
   "source": [
    "def gradient_descent(x, y, w_in, b_in, alpha, num_iters, cost_function, gradient_function):\n",
    "    J_history = []\n",
    "    p_history = []\n",
    "\n",
    "    b = b_in\n",
    "    w = w_in\n",
    "\n",
    "    for i in range(num_iters):\n",
    "        dj_dw, dj_db = gradient_function(x, y, w , b)\n",
    "        b = b - alpha * dj_db\n",
    "        w = w - alpha * dj_dw\n",
    "\n",
    "        if i<100000:\n",
    "            J_history.append( cost_function(x, y, w , b))\n",
    "            p_history.append([w,b])\n",
    "\n",
    "        if i% math.ceil(num_iters/10) == 0:\n",
    "            print(f\"Iteration {i:4}: Cost {J_history[-1]:0.2e} \",\n",
    "                  f\"dj_dw: {dj_dw: 0.3e}, dj_db: {dj_db: 0.3e}  \",\n",
    "                  f\"w: {w: 0.3e}, b:{b: 0.5e}\")\n",
    "\n",
    "    return w, b, J_history, p_history"
   ],
   "id": "251d86f179979bcb",
   "outputs": [],
   "execution_count": 170
  },
  {
   "metadata": {
    "ExecuteTime": {
     "end_time": "2025-01-30T22:20:52.996388Z",
     "start_time": "2025-01-30T22:17:43.781543Z"
    }
   },
   "cell_type": "code",
   "source": [
    "w_init = 18.1999\n",
    "b_init = -10.4064\n",
    "\n",
    "iterations = 10000\n",
    "tmp_alpha = 1.0e-2\n",
    "\n",
    "w_final, b_final, J_hist, p_hist = gradient_descent(x_train ,y_train, w_init, b_init, tmp_alpha,iterations, compute_cost, compute_gradient)\n",
    "print(f\"(w,b) found by gradient descent: ({w_final:8.4f},{b_final:8.4f})\")"
   ],
   "id": "d6da33ee3718d6ab",
   "outputs": [
    {
     "name": "stdout",
     "output_type": "stream",
     "text": [
      "Iteration    0: Cost 6.48e+03  dj_dw:  7.055e-04, dj_db:  1.313e-04   w:  1.820e+01, b:-1.04064e+01\n",
      "Iteration 1000: Cost 6.48e+03  dj_dw: -1.262e-08, dj_db:  8.326e-08   w:  1.820e+01, b:-1.04064e+01\n",
      "Iteration 2000: Cost 6.48e+03  dj_dw: -4.377e-11, dj_db:  2.910e-10   w:  1.820e+01, b:-1.04064e+01\n",
      "Iteration 3000: Cost 6.48e+03  dj_dw: -1.656e-13, dj_db:  9.978e-13   w:  1.820e+01, b:-1.04064e+01\n",
      "Iteration 4000: Cost 6.48e+03  dj_dw: -1.672e-13, dj_db:  8.716e-14   w:  1.820e+01, b:-1.04064e+01\n",
      "Iteration 5000: Cost 6.48e+03  dj_dw: -1.672e-13, dj_db:  8.716e-14   w:  1.820e+01, b:-1.04064e+01\n",
      "Iteration 6000: Cost 6.48e+03  dj_dw: -1.672e-13, dj_db:  8.716e-14   w:  1.820e+01, b:-1.04064e+01\n",
      "Iteration 7000: Cost 6.48e+03  dj_dw: -1.672e-13, dj_db:  8.716e-14   w:  1.820e+01, b:-1.04064e+01\n",
      "Iteration 8000: Cost 6.48e+03  dj_dw: -1.672e-13, dj_db:  8.716e-14   w:  1.820e+01, b:-1.04064e+01\n",
      "Iteration 9000: Cost 6.48e+03  dj_dw: -1.672e-13, dj_db:  8.716e-14   w:  1.820e+01, b:-1.04064e+01\n",
      "(w,b) found by gradient descent: ( 18.1999,-10.4064)\n"
     ]
    }
   ],
   "execution_count": 177
  },
  {
   "metadata": {
    "ExecuteTime": {
     "end_time": "2025-01-30T21:58:35.792650Z",
     "start_time": "2025-01-30T21:58:35.582959Z"
    }
   },
   "cell_type": "code",
   "source": [
    "fig, (ax1, ax2) = plt.subplots(1, 2, constrained_layout=True, figsize=(12,4))\n",
    "ax1.plot(J_hist[:100])\n",
    "ax2.plot(1000 + np.arange(len(J_hist[1000:])), J_hist[1000:])\n",
    "ax1.set_title(\"Cost vs. iteration(start)\");  ax2.set_title(\"Cost vs. iteration (end)\")\n",
    "ax1.set_ylabel('Cost')            ;  ax2.set_ylabel('Cost')\n",
    "ax1.set_xlabel('iteration step')  ;  ax2.set_xlabel('iteration step')\n",
    "plt.show()"
   ],
   "id": "367c8d4aafae5b19",
   "outputs": [
    {
     "data": {
      "text/plain": [
       "<Figure size 1200x400 with 2 Axes>"
      ],
      "image/png": "[encoded data removed]"
     },
     "metadata": {},
     "output_type": "display_data"
    }
   ],
   "execution_count": 172
  }
 ],
 "metadata": {
  "kernelspec": {
   "name": "python3",
   "language": "python",
   "display_name": "Python 3 (ipykernel)"
  }
 },
 "nbformat": 5,
 "nbformat_minor": 9
}

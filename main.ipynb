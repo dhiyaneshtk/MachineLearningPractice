{
 "cells": [
  {
   "metadata": {
    "ExecuteTime": {
     "end_time": "2025-01-30T20:00:15.155535Z",
     "start_time": "2025-01-30T20:00:15.145957Z"
    }
   },
   "cell_type": "code",
   "source": [
    "import numpy as np\n",
    "import matplotlib.pyplot as plt\n",
    "import pandas as pd\n",
    "\n",
    "plt.style.use('./deeplearning.mplstyle')"
   ],
   "id": "92afec1956f7b8d6",
   "outputs": [],
   "execution_count": 12
  },
  {
   "metadata": {
    "ExecuteTime": {
     "end_time": "2025-01-30T20:00:16.806576Z",
     "start_time": "2025-01-30T20:00:16.725930Z"
    }
   },
   "cell_type": "code",
   "source": [
    "prop = pd.read_csv('uae-real-estate.csv')\n",
    "prop.head() #5"
   ],
   "id": "d2ceb9ee071b76c0",
   "outputs": [
    {
     "data": {
      "text/plain": [
       "                                                Name      B_type   Latitude  \\\n",
       "0   Elegant Unit| Golf Views| High-Floor| Prime Area   Apartment  24.463860   \n",
       "1    Sea & City View |  Full Facilities | Prime Area   Apartment  24.487354   \n",
       "2  Hot Offer|Furnished 2BR+M|Full Sea View|High F...   Apartment  24.492602   \n",
       "3  Amazing Deal| Huge Layout | Big Terrace| Inves...   Apartment  24.484639   \n",
       "4  Luxurious Lifestyl|Exclusive Amenities|Invest Now   Apartment  24.538734   \n",
       "\n",
       "   Longitude   Area  Bedrooms  Bathrooms       City         District     Price  \n",
       "0  54.595603    747         0          1  Abu Dhabi       Yas Island   1300000  \n",
       "1  54.395122  1,524         2          3  Abu Dhabi   Al Reem Island   1700000  \n",
       "2  54.392677  1,615         2          3  Abu Dhabi   Al Reem Island   1650000  \n",
       "3  54.404103  1,220         1          2  Abu Dhabi   Al Reem Island    800000  \n",
       "4  54.410601  5,315         4          5  Abu Dhabi  Saadiyat Island  19000000  "
      ],
      "text/html": [
       "<div>\n",
       "<style scoped>\n",
       "    .dataframe tbody tr th:only-of-type {\n",
       "        vertical-align: middle;\n",
       "    }\n",
       "\n",
       "    .dataframe tbody tr th {\n",
       "        vertical-align: top;\n",
       "    }\n",
       "\n",
       "    .dataframe thead th {\n",
       "        text-align: right;\n",
       "    }\n",
       "</style>\n",
       "<table border=\"1\" class=\"dataframe\">\n",
       "  <thead>\n",
       "    <tr style=\"text-align: right;\">\n",
       "      <th></th>\n",
       "      <th>Name</th>\n",
       "      <th>B_type</th>\n",
       "      <th>Latitude</th>\n",
       "      <th>Longitude</th>\n",
       "      <th>Area</th>\n",
       "      <th>Bedrooms</th>\n",
       "      <th>Bathrooms</th>\n",
       "      <th>City</th>\n",
       "      <th>District</th>\n",
       "      <th>Price</th>\n",
       "    </tr>\n",
       "  </thead>\n",
       "  <tbody>\n",
       "    <tr>\n",
       "      <th>0</th>\n",
       "      <td>Elegant Unit| Golf Views| High-Floor| Prime Area</td>\n",
       "      <td>Apartment</td>\n",
       "      <td>24.463860</td>\n",
       "      <td>54.595603</td>\n",
       "      <td>747</td>\n",
       "      <td>0</td>\n",
       "      <td>1</td>\n",
       "      <td>Abu Dhabi</td>\n",
       "      <td>Yas Island</td>\n",
       "      <td>1300000</td>\n",
       "    </tr>\n",
       "    <tr>\n",
       "      <th>1</th>\n",
       "      <td>Sea &amp; City View |  Full Facilities | Prime Area</td>\n",
       "      <td>Apartment</td>\n",
       "      <td>24.487354</td>\n",
       "      <td>54.395122</td>\n",
       "      <td>1,524</td>\n",
       "      <td>2</td>\n",
       "      <td>3</td>\n",
       "      <td>Abu Dhabi</td>\n",
       "      <td>Al Reem Island</td>\n",
       "      <td>1700000</td>\n",
       "    </tr>\n",
       "    <tr>\n",
       "      <th>2</th>\n",
       "      <td>Hot Offer|Furnished 2BR+M|Full Sea View|High F...</td>\n",
       "      <td>Apartment</td>\n",
       "      <td>24.492602</td>\n",
       "      <td>54.392677</td>\n",
       "      <td>1,615</td>\n",
       "      <td>2</td>\n",
       "      <td>3</td>\n",
       "      <td>Abu Dhabi</td>\n",
       "      <td>Al Reem Island</td>\n",
       "      <td>1650000</td>\n",
       "    </tr>\n",
       "    <tr>\n",
       "      <th>3</th>\n",
       "      <td>Amazing Deal| Huge Layout | Big Terrace| Inves...</td>\n",
       "      <td>Apartment</td>\n",
       "      <td>24.484639</td>\n",
       "      <td>54.404103</td>\n",
       "      <td>1,220</td>\n",
       "      <td>1</td>\n",
       "      <td>2</td>\n",
       "      <td>Abu Dhabi</td>\n",
       "      <td>Al Reem Island</td>\n",
       "      <td>800000</td>\n",
       "    </tr>\n",
       "    <tr>\n",
       "      <th>4</th>\n",
       "      <td>Luxurious Lifestyl|Exclusive Amenities|Invest Now</td>\n",
       "      <td>Apartment</td>\n",
       "      <td>24.538734</td>\n",
       "      <td>54.410601</td>\n",
       "      <td>5,315</td>\n",
       "      <td>4</td>\n",
       "      <td>5</td>\n",
       "      <td>Abu Dhabi</td>\n",
       "      <td>Saadiyat Island</td>\n",
       "      <td>19000000</td>\n",
       "    </tr>\n",
       "  </tbody>\n",
       "</table>\n",
       "</div>"
      ]
     },
     "execution_count": 13,
     "metadata": {},
     "output_type": "execute_result"
    }
   ],
   "execution_count": 13
  },
  {
   "metadata": {
    "ExecuteTime": {
     "end_time": "2025-01-30T20:09:39.136281Z",
     "start_time": "2025-01-30T20:09:39.056206Z"
    }
   },
   "cell_type": "code",
   "source": [
    "df = pd.DataFrame(prop,columns=['Area','Price'])\n",
    "print(df)"
   ],
   "id": "9e943e4377960388",
   "outputs": [
    {
     "name": "stdout",
     "output_type": "stream",
     "text": [
      "         Area     Price\n",
      "0         747   1300000\n",
      "1       1,524   1700000\n",
      "2       1,615   1650000\n",
      "3       1,220    800000\n",
      "4       5,315  19000000\n",
      "...       ...       ...\n",
      "29900   3,702   7250000\n",
      "29901   2,110   3187000\n",
      "29902   1,964   2250000\n",
      "29903  18,000   6500000\n",
      "29904   2,477   2400000\n",
      "\n",
      "[29905 rows x 2 columns]\n"
     ]
    }
   ],
   "execution_count": 20
  },
  {
   "metadata": {
    "ExecuteTime": {
     "end_time": "2025-01-30T20:05:55.069219Z",
     "start_time": "2025-01-30T20:05:55.052318Z"
    }
   },
   "cell_type": "code",
   "source": [
    "x_train = prop[\"Area\"].to_numpy()\n",
    "y_train = prop[\"Price\"].to_numpy()\n",
    "print(x_train)\n",
    "print(y_train)"
   ],
   "id": "b3d037b07c2aa43",
   "outputs": [
    {
     "name": "stdout",
     "output_type": "stream",
     "text": [
      "['747' '1,524' '1,615' ... '1,964' '18,000' '2,477']\n",
      "[1300000 1700000 1650000 ... 2250000 6500000 2400000]\n"
     ]
    }
   ],
   "execution_count": 18
  },
  {
   "metadata": {
    "ExecuteTime": {
     "end_time": "2025-01-30T20:10:05.866322Z",
     "start_time": "2025-01-30T20:10:05.832224Z"
    }
   },
   "cell_type": "code",
   "source": [
    "m = len(x_train)\n",
    "print(f\"Number of training examples is: {m}\")"
   ],
   "id": "3af8076013224c8",
   "outputs": [
    {
     "name": "stdout",
     "output_type": "stream",
     "text": [
      "Number of training examples is: 29905\n"
     ]
    }
   ],
   "execution_count": 21
  },
  {
   "metadata": {
    "ExecuteTime": {
     "end_time": "2025-01-30T20:14:07.593763Z",
     "start_time": "2025-01-30T20:13:56.935942Z"
    }
   },
   "cell_type": "code",
   "source": [
    "plt.scatter(x_train, y_train, marker='.', c='r')\n",
    "plt.title(\"Housing Prices\")"
   ],
   "id": "9bf4b0a7b53321a5",
   "outputs": [
    {
     "data": {
      "text/plain": [
       "Text(0.5, 1.0, 'Housing Prices')"
      ]
     },
     "execution_count": 24,
     "metadata": {},
     "output_type": "execute_result"
    },
    {
     "data": {
      "text/plain": [
       "<Figure size 640x480 with 1 Axes>"
      ],
      "image/png": "[encoded data removed]"
     },
     "metadata": {},
     "output_type": "display_data"
    }
   ],
   "execution_count": 24
  },
  {
   "metadata": {},
   "cell_type": "code",
   "outputs": [],
   "execution_count": null,
   "source": [
    "def compute_model_output(x, w, b):\n",
    "\n",
    "    m = x.shape[0]\n",
    "    f_wb = np.zeros(m)\n",
    "    for i in range(m):\n",
    "        f_wb[i] = w * x[i] + b\n",
    "\n",
    "    return f_wb"
   ],
   "id": "555e08fcfb8b09c8"
  }
 ],
 "metadata": {
  "kernelspec": {
   "name": "python3",
   "language": "python",
   "display_name": "Python 3 (ipykernel)"
  }
 },
 "nbformat": 5,
 "nbformat_minor": 9
}

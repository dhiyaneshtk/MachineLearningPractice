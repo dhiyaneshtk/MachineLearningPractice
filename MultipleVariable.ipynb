{
 "cells": [
  {
   "cell_type": "code",
   "id": "initial_id",
   "metadata": {
    "collapsed": true,
    "ExecuteTime": {
     "end_time": "2025-01-31T08:48:07.347967Z",
     "start_time": "2025-01-31T08:48:07.326533Z"
    }
   },
   "source": [
    "import numpy as np\n",
    "import matplotlib.pyplot as plt\n",
    "import pandas as pd\n",
    "import math, copy"
   ],
   "outputs": [],
   "execution_count": 47
  },
  {
   "metadata": {
    "ExecuteTime": {
     "end_time": "2025-01-31T08:48:08.534302Z",
     "start_time": "2025-01-31T08:48:08.410523Z"
    }
   },
   "cell_type": "code",
   "source": [
    "prop = pd.read_csv('uae-real-estate.csv')\n",
    "prop.head() #5"
   ],
   "id": "255ffea94a6d1667",
   "outputs": [
    {
     "data": {
      "text/plain": [
       "                                                Name      B_type   Latitude  \\\n",
       "0   Elegant Unit| Golf Views| High-Floor| Prime Area   Apartment  24.463860   \n",
       "1    Sea & City View |  Full Facilities | Prime Area   Apartment  24.487354   \n",
       "2  Hot Offer|Furnished 2BR+M|Full Sea View|High F...   Apartment  24.492602   \n",
       "3  Amazing Deal| Huge Layout | Big Terrace| Inves...   Apartment  24.484639   \n",
       "4  Luxurious Lifestyl|Exclusive Amenities|Invest Now   Apartment  24.538734   \n",
       "\n",
       "   Longitude   Area  Bedrooms  Bathrooms       City         District     Price  \n",
       "0  54.595603    747         0          1  Abu Dhabi       Yas Island   1300000  \n",
       "1  54.395122  1,524         2          3  Abu Dhabi   Al Reem Island   1700000  \n",
       "2  54.392677  1,615         2          3  Abu Dhabi   Al Reem Island   1650000  \n",
       "3  54.404103  1,220         1          2  Abu Dhabi   Al Reem Island    800000  \n",
       "4  54.410601  5,315         4          5  Abu Dhabi  Saadiyat Island  19000000  "
      ],
      "text/html": [
       "<div>\n",
       "<style scoped>\n",
       "    .dataframe tbody tr th:only-of-type {\n",
       "        vertical-align: middle;\n",
       "    }\n",
       "\n",
       "    .dataframe tbody tr th {\n",
       "        vertical-align: top;\n",
       "    }\n",
       "\n",
       "    .dataframe thead th {\n",
       "        text-align: right;\n",
       "    }\n",
       "</style>\n",
       "<table border=\"1\" class=\"dataframe\">\n",
       "  <thead>\n",
       "    <tr style=\"text-align: right;\">\n",
       "      <th></th>\n",
       "      <th>Name</th>\n",
       "      <th>B_type</th>\n",
       "      <th>Latitude</th>\n",
       "      <th>Longitude</th>\n",
       "      <th>Area</th>\n",
       "      <th>Bedrooms</th>\n",
       "      <th>Bathrooms</th>\n",
       "      <th>City</th>\n",
       "      <th>District</th>\n",
       "      <th>Price</th>\n",
       "    </tr>\n",
       "  </thead>\n",
       "  <tbody>\n",
       "    <tr>\n",
       "      <th>0</th>\n",
       "      <td>Elegant Unit| Golf Views| High-Floor| Prime Area</td>\n",
       "      <td>Apartment</td>\n",
       "      <td>24.463860</td>\n",
       "      <td>54.595603</td>\n",
       "      <td>747</td>\n",
       "      <td>0</td>\n",
       "      <td>1</td>\n",
       "      <td>Abu Dhabi</td>\n",
       "      <td>Yas Island</td>\n",
       "      <td>1300000</td>\n",
       "    </tr>\n",
       "    <tr>\n",
       "      <th>1</th>\n",
       "      <td>Sea &amp; City View |  Full Facilities | Prime Area</td>\n",
       "      <td>Apartment</td>\n",
       "      <td>24.487354</td>\n",
       "      <td>54.395122</td>\n",
       "      <td>1,524</td>\n",
       "      <td>2</td>\n",
       "      <td>3</td>\n",
       "      <td>Abu Dhabi</td>\n",
       "      <td>Al Reem Island</td>\n",
       "      <td>1700000</td>\n",
       "    </tr>\n",
       "    <tr>\n",
       "      <th>2</th>\n",
       "      <td>Hot Offer|Furnished 2BR+M|Full Sea View|High F...</td>\n",
       "      <td>Apartment</td>\n",
       "      <td>24.492602</td>\n",
       "      <td>54.392677</td>\n",
       "      <td>1,615</td>\n",
       "      <td>2</td>\n",
       "      <td>3</td>\n",
       "      <td>Abu Dhabi</td>\n",
       "      <td>Al Reem Island</td>\n",
       "      <td>1650000</td>\n",
       "    </tr>\n",
       "    <tr>\n",
       "      <th>3</th>\n",
       "      <td>Amazing Deal| Huge Layout | Big Terrace| Inves...</td>\n",
       "      <td>Apartment</td>\n",
       "      <td>24.484639</td>\n",
       "      <td>54.404103</td>\n",
       "      <td>1,220</td>\n",
       "      <td>1</td>\n",
       "      <td>2</td>\n",
       "      <td>Abu Dhabi</td>\n",
       "      <td>Al Reem Island</td>\n",
       "      <td>800000</td>\n",
       "    </tr>\n",
       "    <tr>\n",
       "      <th>4</th>\n",
       "      <td>Luxurious Lifestyl|Exclusive Amenities|Invest Now</td>\n",
       "      <td>Apartment</td>\n",
       "      <td>24.538734</td>\n",
       "      <td>54.410601</td>\n",
       "      <td>5,315</td>\n",
       "      <td>4</td>\n",
       "      <td>5</td>\n",
       "      <td>Abu Dhabi</td>\n",
       "      <td>Saadiyat Island</td>\n",
       "      <td>19000000</td>\n",
       "    </tr>\n",
       "  </tbody>\n",
       "</table>\n",
       "</div>"
      ]
     },
     "execution_count": 48,
     "metadata": {},
     "output_type": "execute_result"
    }
   ],
   "execution_count": 48
  },
  {
   "metadata": {
    "ExecuteTime": {
     "end_time": "2025-01-31T08:48:10.199655Z",
     "start_time": "2025-01-31T08:48:10.169218Z"
    }
   },
   "cell_type": "code",
   "source": [
    "df = pd.DataFrame(prop,columns=['Area','Price','Bedrooms', 'Bathrooms'])\n",
    "print(df)"
   ],
   "id": "ff29d437376c9e8d",
   "outputs": [
    {
     "name": "stdout",
     "output_type": "stream",
     "text": [
      "         Area     Price  Bedrooms  Bathrooms\n",
      "0         747   1300000         0          1\n",
      "1       1,524   1700000         2          3\n",
      "2       1,615   1650000         2          3\n",
      "3       1,220    800000         1          2\n",
      "4       5,315  19000000         4          5\n",
      "...       ...       ...       ...        ...\n",
      "29900   3,702   7250000         4          3\n",
      "29901   2,110   3187000         3          2\n",
      "29902   1,964   2250000         2          3\n",
      "29903  18,000   6500000        10         10\n",
      "29904   2,477   2400000         3          3\n",
      "\n",
      "[29905 rows x 4 columns]\n"
     ]
    }
   ],
   "execution_count": 49
  },
  {
   "metadata": {
    "ExecuteTime": {
     "end_time": "2025-01-31T08:48:11.773606Z",
     "start_time": "2025-01-31T08:48:11.749256Z"
    }
   },
   "cell_type": "code",
   "source": [
    "x1 = np.array([(int(i.replace(',', '')))/1000 for i in prop[\"Area\"].to_numpy()]).astype(float)\n",
    "x2 = np.array(prop[\"Bedrooms\"].to_numpy()).astype(float)\n",
    "x3 = np.array(prop[\"Bathrooms\"].to_numpy()).astype(float)\n",
    "y_train = np.array([(i/100000) for i in prop[\"Price\"].to_numpy()]).astype(float)\n",
    "\n",
    "temp_x = np.dstack((x1, x2, x3))\n",
    "\n",
    "X_train = temp_x[0]\n",
    "print(X_train)\n",
    "print(X_train.shape)"
   ],
   "id": "1537fd1b9dc6002a",
   "outputs": [
    {
     "name": "stdout",
     "output_type": "stream",
     "text": [
      "[[ 0.747  0.     1.   ]\n",
      " [ 1.524  2.     3.   ]\n",
      " [ 1.615  2.     3.   ]\n",
      " ...\n",
      " [ 1.964  2.     3.   ]\n",
      " [18.    10.    10.   ]\n",
      " [ 2.477  3.     3.   ]]\n",
      "(29905, 3)\n"
     ]
    }
   ],
   "execution_count": 50
  },
  {
   "metadata": {
    "ExecuteTime": {
     "end_time": "2025-01-31T08:48:13.713891Z",
     "start_time": "2025-01-31T08:48:13.710750Z"
    }
   },
   "cell_type": "code",
   "source": [
    "b_init = 5\n",
    "w_init = np.array([5,5,5])"
   ],
   "id": "cf5560902952449e",
   "outputs": [],
   "execution_count": 51
  },
  {
   "metadata": {
    "ExecuteTime": {
     "end_time": "2025-01-31T08:48:18.193278Z",
     "start_time": "2025-01-31T08:48:18.189333Z"
    }
   },
   "cell_type": "code",
   "source": [
    "def predict(x, w, b):\n",
    "    p = np.dot(x, w) + b\n",
    "    return p"
   ],
   "id": "7ac3a3df310a796d",
   "outputs": [],
   "execution_count": 54
  },
  {
   "metadata": {
    "ExecuteTime": {
     "end_time": "2025-01-31T08:48:20.688783Z",
     "start_time": "2025-01-31T08:48:20.682136Z"
    }
   },
   "cell_type": "code",
   "source": [
    "# get a row from our training data\n",
    "x_vec = X_train[0,:]\n",
    "print(f\"x_vec shape {x_vec.shape}, x_vec value: {x_vec}\")\n",
    "\n",
    "# make a prediction\n",
    "f_wb = predict(x_vec, w_init, b_init)\n",
    "print(f\"f_wb shape {f_wb.shape}, prediction: {f_wb}\")"
   ],
   "id": "370b6bb6612e08e6",
   "outputs": [
    {
     "name": "stdout",
     "output_type": "stream",
     "text": [
      "x_vec shape (3,), x_vec value: [0.747 0.    1.   ]\n",
      "f_wb shape (), prediction: 13.735\n"
     ]
    }
   ],
   "execution_count": 55
  },
  {
   "metadata": {
    "ExecuteTime": {
     "end_time": "2025-01-31T08:48:22.839742Z",
     "start_time": "2025-01-31T08:48:22.826840Z"
    }
   },
   "cell_type": "code",
   "source": [
    "def compute_cost(X, y, w, b):\n",
    "    m = X.shape[0]\n",
    "    cost = 0.0\n",
    "    for i in range(m):\n",
    "        f_wb_i = np.dot(X[i], w) + b\n",
    "        cost = cost + (f_wb_i - y[i])**2\n",
    "    cost = cost / (2 * m)\n",
    "    return cost"
   ],
   "id": "56e93cb045a3b927",
   "outputs": [],
   "execution_count": 56
  },
  {
   "metadata": {
    "ExecuteTime": {
     "end_time": "2025-01-31T08:48:25.939058Z",
     "start_time": "2025-01-31T08:48:25.895882Z"
    }
   },
   "cell_type": "code",
   "source": [
    "cost = compute_cost(X_train, y_train, w_init, b_init)\n",
    "print(f'Cost at optimal w : {cost}')"
   ],
   "id": "56a1dca96618d40",
   "outputs": [
    {
     "name": "stdout",
     "output_type": "stream",
     "text": [
      "Cost at optimal w : 7314.761176385666\n"
     ]
    }
   ],
   "execution_count": 57
  },
  {
   "metadata": {
    "ExecuteTime": {
     "end_time": "2025-01-31T08:53:57.069140Z",
     "start_time": "2025-01-31T08:53:57.047863Z"
    }
   },
   "cell_type": "code",
   "source": [
    "def compute_gradient(X, y, w, b):\n",
    "    m,n = X.shape\n",
    "    dj_dw = np.zeros((n,))\n",
    "    dj_db = 0.\n",
    "\n",
    "    for i in range(m):\n",
    "        err = (np.dot(X[i], w) + b) - y[i]\n",
    "        for j in range(n):\n",
    "            dj_dw[j] = dj_dw[j] + err * X[i, j]\n",
    "        dj_db = dj_db + err\n",
    "    dj_dw = dj_dw / m\n",
    "    dj_db = dj_db / m\n",
    "\n",
    "    return dj_db, dj_dw"
   ],
   "id": "faba6ad148ec305",
   "outputs": [],
   "execution_count": 58
  },
  {
   "metadata": {
    "ExecuteTime": {
     "end_time": "2025-01-31T08:56:08.548059Z",
     "start_time": "2025-01-31T08:56:08.437286Z"
    }
   },
   "cell_type": "code",
   "source": [
    "tmp_dj_db, tmp_dj_dw = compute_gradient(X_train, y_train, w_init, b_init)\n",
    "print(f'dj_db at initial w,b: {tmp_dj_db}')\n",
    "print(f'dj_dw at initial w,b: \\n {tmp_dj_dw}')"
   ],
   "id": "c7801ed2d54bdc62",
   "outputs": [
    {
     "name": "stdout",
     "output_type": "stream",
     "text": [
      "dj_db at initial w,b: 12.174230295937367\n",
      "dj_dw at initial w,b: \n",
      " [-76.89387252  29.22263407  42.65747835]\n"
     ]
    }
   ],
   "execution_count": 59
  },
  {
   "metadata": {
    "ExecuteTime": {
     "end_time": "2025-01-31T09:09:49.845993Z",
     "start_time": "2025-01-31T09:09:49.836150Z"
    }
   },
   "cell_type": "code",
   "source": [
    "def gradient_descent(X, y, w_in, b_in, cost_function, gradient_function, alpha, num_iters):\n",
    "    J_history = []\n",
    "    w = copy.deepcopy(w_in)  #avoid modifying global w within function\n",
    "    b = b_in\n",
    "\n",
    "    for i in range(num_iters):\n",
    "\n",
    "        # Calculate the gradient and update the parameters\n",
    "        dj_db,dj_dw = gradient_function(X, y, w, b)   ##None\n",
    "\n",
    "        # Update Parameters using w, b, alpha and gradient\n",
    "        w = w - alpha * dj_dw               ##None\n",
    "        b = b - alpha * dj_db               ##None\n",
    "\n",
    "        # Save cost J at each iteration\n",
    "        if i<100000:      # prevent resource exhaustion\n",
    "            J_history.append( cost_function(X, y, w, b))\n",
    "\n",
    "        # Print cost every at intervals 10 times or as many iterations if < 10\n",
    "        if i% math.ceil(num_iters / 10) == 0:\n",
    "            print(f\"Iteration {i:4d}: Cost {J_history[-1]}   \")\n",
    "\n",
    "    return w, b, J_history"
   ],
   "id": "45ceb7c0ca83ca6c",
   "outputs": [],
   "execution_count": 67
  },
  {
   "metadata": {
    "ExecuteTime": {
     "end_time": "2025-01-31T09:36:49.020746Z",
     "start_time": "2025-01-31T09:27:12.217894Z"
    }
   },
   "cell_type": "code",
   "source": [
    "initial_w = np.zeros_like(w_init)\n",
    "initial_b = 0.\n",
    "\n",
    "iterations = 10000\n",
    "alpha = 1.0e-2\n",
    "\n",
    "w_final, b_final, J_hist = gradient_descent(X_train, y_train, w_final, b_final,\n",
    "                                                    compute_cost, compute_gradient,\n",
    "                                                    alpha, iterations)\n",
    "print(f\"b,w found by gradient descent: {b_final:0.2f},{w_final} \")\n",
    "m,_ = X_train.shape"
   ],
   "id": "323ec199e76e0292",
   "outputs": [
    {
     "name": "stdout",
     "output_type": "stream",
     "text": [
      "Iteration    0: Cost 6437.745887085505   \n",
      "Iteration 1000: Cost 6437.745886450691   \n",
      "Iteration 2000: Cost 6437.745886431764   \n",
      "Iteration 3000: Cost 6437.74588643084   \n",
      "Iteration 4000: Cost 6437.745886430612   \n",
      "Iteration 5000: Cost 6437.745886430843   \n",
      "Iteration 6000: Cost 6437.745886430843   \n",
      "Iteration 7000: Cost 6437.745886430865   \n",
      "Iteration 8000: Cost 6437.745886430825   \n",
      "Iteration 9000: Cost 6437.745886430596   \n",
      "b,w found by gradient descent: 3.95,[20.32128045 -6.81415518 -0.10932829] \n"
     ]
    }
   ],
   "execution_count": 71
  }
 ],
 "metadata": {
  "kernelspec": {
   "display_name": "Python 3",
   "language": "python",
   "name": "python3"
  },
  "language_info": {
   "codemirror_mode": {
    "name": "ipython",
    "version": 2
   },
   "file_extension": ".py",
   "mimetype": "text/x-python",
   "name": "python",
   "nbconvert_exporter": "python",
   "pygments_lexer": "ipython2",
   "version": "2.7.6"
  }
 },
 "nbformat": 4,
 "nbformat_minor": 5
}

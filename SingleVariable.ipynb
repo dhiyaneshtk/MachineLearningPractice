{
 "cells": [
  {
   "metadata": {
    "ExecuteTime": {
     "end_time": "2025-01-31T07:08:22.841978Z",
     "start_time": "2025-01-31T07:08:22.816574Z"
    }
   },
   "cell_type": "code",
   "source": [
    "import numpy as np\n",
    "import matplotlib.pyplot as plt\n",
    "import pandas as pd\n",
    "import math, copy"
   ],
   "id": "92afec1956f7b8d6",
   "outputs": [],
   "execution_count": 6
  },
  {
   "metadata": {
    "ExecuteTime": {
     "end_time": "2025-01-31T07:08:23.870638Z",
     "start_time": "2025-01-31T07:08:23.618613Z"
    }
   },
   "cell_type": "code",
   "source": [
    "prop = pd.read_csv('uae-real-estate.csv')\n",
    "prop.head() #5"
   ],
   "id": "d2ceb9ee071b76c0",
   "outputs": [
    {
     "data": {
      "text/plain": [
       "                                                Name      B_type   Latitude  \\\n",
       "0   Elegant Unit| Golf Views| High-Floor| Prime Area   Apartment  24.463860   \n",
       "1    Sea & City View |  Full Facilities | Prime Area   Apartment  24.487354   \n",
       "2  Hot Offer|Furnished 2BR+M|Full Sea View|High F...   Apartment  24.492602   \n",
       "3  Amazing Deal| Huge Layout | Big Terrace| Inves...   Apartment  24.484639   \n",
       "4  Luxurious Lifestyl|Exclusive Amenities|Invest Now   Apartment  24.538734   \n",
       "\n",
       "   Longitude   Area  Bedrooms  Bathrooms       City         District     Price  \n",
       "0  54.595603    747         0          1  Abu Dhabi       Yas Island   1300000  \n",
       "1  54.395122  1,524         2          3  Abu Dhabi   Al Reem Island   1700000  \n",
       "2  54.392677  1,615         2          3  Abu Dhabi   Al Reem Island   1650000  \n",
       "3  54.404103  1,220         1          2  Abu Dhabi   Al Reem Island    800000  \n",
       "4  54.410601  5,315         4          5  Abu Dhabi  Saadiyat Island  19000000  "
      ],
      "text/html": [
       "<div>\n",
       "<style scoped>\n",
       "    .dataframe tbody tr th:only-of-type {\n",
       "        vertical-align: middle;\n",
       "    }\n",
       "\n",
       "    .dataframe tbody tr th {\n",
       "        vertical-align: top;\n",
       "    }\n",
       "\n",
       "    .dataframe thead th {\n",
       "        text-align: right;\n",
       "    }\n",
       "</style>\n",
       "<table border=\"1\" class=\"dataframe\">\n",
       "  <thead>\n",
       "    <tr style=\"text-align: right;\">\n",
       "      <th></th>\n",
       "      <th>Name</th>\n",
       "      <th>B_type</th>\n",
       "      <th>Latitude</th>\n",
       "      <th>Longitude</th>\n",
       "      <th>Area</th>\n",
       "      <th>Bedrooms</th>\n",
       "      <th>Bathrooms</th>\n",
       "      <th>City</th>\n",
       "      <th>District</th>\n",
       "      <th>Price</th>\n",
       "    </tr>\n",
       "  </thead>\n",
       "  <tbody>\n",
       "    <tr>\n",
       "      <th>0</th>\n",
       "      <td>Elegant Unit| Golf Views| High-Floor| Prime Area</td>\n",
       "      <td>Apartment</td>\n",
       "      <td>24.463860</td>\n",
       "      <td>54.595603</td>\n",
       "      <td>747</td>\n",
       "      <td>0</td>\n",
       "      <td>1</td>\n",
       "      <td>Abu Dhabi</td>\n",
       "      <td>Yas Island</td>\n",
       "      <td>1300000</td>\n",
       "    </tr>\n",
       "    <tr>\n",
       "      <th>1</th>\n",
       "      <td>Sea &amp; City View |  Full Facilities | Prime Area</td>\n",
       "      <td>Apartment</td>\n",
       "      <td>24.487354</td>\n",
       "      <td>54.395122</td>\n",
       "      <td>1,524</td>\n",
       "      <td>2</td>\n",
       "      <td>3</td>\n",
       "      <td>Abu Dhabi</td>\n",
       "      <td>Al Reem Island</td>\n",
       "      <td>1700000</td>\n",
       "    </tr>\n",
       "    <tr>\n",
       "      <th>2</th>\n",
       "      <td>Hot Offer|Furnished 2BR+M|Full Sea View|High F...</td>\n",
       "      <td>Apartment</td>\n",
       "      <td>24.492602</td>\n",
       "      <td>54.392677</td>\n",
       "      <td>1,615</td>\n",
       "      <td>2</td>\n",
       "      <td>3</td>\n",
       "      <td>Abu Dhabi</td>\n",
       "      <td>Al Reem Island</td>\n",
       "      <td>1650000</td>\n",
       "    </tr>\n",
       "    <tr>\n",
       "      <th>3</th>\n",
       "      <td>Amazing Deal| Huge Layout | Big Terrace| Inves...</td>\n",
       "      <td>Apartment</td>\n",
       "      <td>24.484639</td>\n",
       "      <td>54.404103</td>\n",
       "      <td>1,220</td>\n",
       "      <td>1</td>\n",
       "      <td>2</td>\n",
       "      <td>Abu Dhabi</td>\n",
       "      <td>Al Reem Island</td>\n",
       "      <td>800000</td>\n",
       "    </tr>\n",
       "    <tr>\n",
       "      <th>4</th>\n",
       "      <td>Luxurious Lifestyl|Exclusive Amenities|Invest Now</td>\n",
       "      <td>Apartment</td>\n",
       "      <td>24.538734</td>\n",
       "      <td>54.410601</td>\n",
       "      <td>5,315</td>\n",
       "      <td>4</td>\n",
       "      <td>5</td>\n",
       "      <td>Abu Dhabi</td>\n",
       "      <td>Saadiyat Island</td>\n",
       "      <td>19000000</td>\n",
       "    </tr>\n",
       "  </tbody>\n",
       "</table>\n",
       "</div>"
      ]
     },
     "execution_count": 7,
     "metadata": {},
     "output_type": "execute_result"
    }
   ],
   "execution_count": 7
  },
  {
   "metadata": {},
   "cell_type": "code",
   "outputs": [],
   "execution_count": null,
   "source": [
    "def normalize(arr):\n",
    "    max = arr.max()\n",
    "    min = arr.min()\n"
   ],
   "id": "32fd7a6f590b6fa0"
  },
  {
   "metadata": {
    "ExecuteTime": {
     "end_time": "2025-01-31T10:21:13.833703Z",
     "start_time": "2025-01-31T10:21:13.787804Z"
    }
   },
   "cell_type": "code",
   "source": [
    "df = pd.DataFrame(prop,columns=['Area','Price'])\n",
    "a = df.max().to_numpy()\n",
    "x = np.array([(int(i.replace(',', ''))) for i in prop[\"Area\"].to_numpy()]).astype(float)\n",
    "y = np.array([prop[\"Price\"].to_numpy()]).astype(float)\n",
    "x_max = x.max()\n",
    "y_max = y.max()\n",
    "print(x_max)\n",
    "print(y_max)"
   ],
   "id": "9e943e4377960388",
   "outputs": [
    {
     "name": "stdout",
     "output_type": "stream",
     "text": [
      "124000.0\n",
      "750000000.0\n"
     ]
    }
   ],
   "execution_count": 40
  },
  {
   "metadata": {
    "ExecuteTime": {
     "end_time": "2025-01-31T10:21:34.651901Z",
     "start_time": "2025-01-31T10:21:34.594484Z"
    }
   },
   "cell_type": "code",
   "source": [
    "x_train = np.array([(int(i.replace(',', '')))/x_max for i in prop[\"Area\"].to_numpy()]).astype(float)\n",
    "y_train = np.array([(i/y_max) for i in prop[\"Price\"].to_numpy()]).astype(float)\n",
    "print(x_train)\n",
    "print(y_train)"
   ],
   "id": "b3d037b07c2aa43",
   "outputs": [
    {
     "name": "stdout",
     "output_type": "stream",
     "text": [
      "[0.00602419 0.01229032 0.01302419 ... 0.01583871 0.14516129 0.01997581]\n",
      "[0.00173333 0.00226667 0.0022     ... 0.003      0.00866667 0.0032    ]\n"
     ]
    }
   ],
   "execution_count": 41
  },
  {
   "metadata": {
    "ExecuteTime": {
     "end_time": "2025-01-31T10:21:39.011799Z",
     "start_time": "2025-01-31T10:21:38.988120Z"
    }
   },
   "cell_type": "code",
   "source": [
    "m = len(x_train)\n",
    "print(f\"Number of training examples is: {m}\")"
   ],
   "id": "3af8076013224c8",
   "outputs": [
    {
     "name": "stdout",
     "output_type": "stream",
     "text": [
      "Number of training examples is: 29905\n"
     ]
    }
   ],
   "execution_count": 42
  },
  {
   "metadata": {
    "ExecuteTime": {
     "end_time": "2025-01-31T10:21:39.973076Z",
     "start_time": "2025-01-31T10:21:39.716114Z"
    }
   },
   "cell_type": "code",
   "source": [
    "plt.scatter(x_train, y_train, marker='.', c='r')\n",
    "plt.title(\"Housing Prices\")\n",
    "plt.ylabel('Price (in dhirams)')\n",
    "plt.xlabel('Size (sqm)')"
   ],
   "id": "9bf4b0a7b53321a5",
   "outputs": [
    {
     "data": {
      "text/plain": [
       "Text(0.5, 0, 'Size (sqm)')"
      ]
     },
     "execution_count": 43,
     "metadata": {},
     "output_type": "execute_result"
    },
    {
     "data": {
      "text/plain": [
       "<Figure size 640x480 with 1 Axes>"
      ],
      "image/png": "[encoded data removed]"
     },
     "metadata": {},
     "output_type": "display_data"
    }
   ],
   "execution_count": 43
  },
  {
   "metadata": {
    "ExecuteTime": {
     "end_time": "2025-01-31T10:22:10.833700Z",
     "start_time": "2025-01-31T10:22:10.816142Z"
    }
   },
   "cell_type": "code",
   "source": [
    "tmp_w = 0.5\n",
    "tmp_b = 0.1"
   ],
   "id": "28cb9557a145d511",
   "outputs": [],
   "execution_count": 48
  },
  {
   "metadata": {
    "ExecuteTime": {
     "end_time": "2025-01-31T10:22:12.198753Z",
     "start_time": "2025-01-31T10:22:12.183718Z"
    }
   },
   "cell_type": "code",
   "source": [
    "def compute_model_output(x, w, b):\n",
    "\n",
    "    m = x.shape[0]\n",
    "    f_wb = np.zeros(m)\n",
    "    for i in range(m):\n",
    "        f_wb[i] = w * x[i] + b\n",
    "\n",
    "    return f_wb"
   ],
   "id": "555e08fcfb8b09c8",
   "outputs": [],
   "execution_count": 49
  },
  {
   "metadata": {
    "ExecuteTime": {
     "end_time": "2025-01-31T10:22:13.374705Z",
     "start_time": "2025-01-31T10:22:13.365287Z"
    }
   },
   "cell_type": "code",
   "source": [
    "tmp_f_wb = compute_model_output(x_train, tmp_w, tmp_b)\n",
    "print(tmp_f_wb)"
   ],
   "id": "e5e902301fb9bda4",
   "outputs": [
    {
     "name": "stdout",
     "output_type": "stream",
     "text": [
      "[0.1030121  0.10614516 0.1065121  ... 0.10791935 0.17258065 0.1099879 ]\n"
     ]
    }
   ],
   "execution_count": 50
  },
  {
   "metadata": {
    "ExecuteTime": {
     "end_time": "2025-01-31T10:22:16.397662Z",
     "start_time": "2025-01-31T10:22:16.308886Z"
    }
   },
   "cell_type": "code",
   "source": [
    "plt.plot(x_train, tmp_f_wb, c='b',label='Our Prediction')\n",
    "plt.scatter(x_train, y_train, marker='.', c='r',label='Actual Values')\n",
    "plt.title(\"Housing Prices\")\n",
    "plt.ylabel('Price (in 1000s of dollars)')\n",
    "plt.show()"
   ],
   "id": "43a454eb2cf1e4ba",
   "outputs": [
    {
     "data": {
      "text/plain": [
       "<Figure size 640x480 with 1 Axes>"
      ],
      "image/png": "[encoded data removed]"
     },
     "metadata": {},
     "output_type": "display_data"
    }
   ],
   "execution_count": 51
  },
  {
   "metadata": {
    "ExecuteTime": {
     "end_time": "2025-01-31T10:22:20.340218Z",
     "start_time": "2025-01-31T10:22:20.332420Z"
    }
   },
   "cell_type": "code",
   "source": [
    "def compute_cost(x, y, w, b):\n",
    "    m = x.shape[0]\n",
    "\n",
    "    cost_sum = 0\n",
    "    for i in range(m):\n",
    "        f_wb = w * x[i] + b\n",
    "        cost = (f_wb - y[i]) ** 2\n",
    "        cost_sum = cost_sum + cost\n",
    "    total_cost = (1 / (2 * m)) * cost_sum\n",
    "\n",
    "    return total_cost"
   ],
   "id": "9cc7ce53b25fc854",
   "outputs": [],
   "execution_count": 52
  },
  {
   "metadata": {
    "ExecuteTime": {
     "end_time": "2025-01-31T10:22:22.088219Z",
     "start_time": "2025-01-31T10:22:22.060452Z"
    }
   },
   "cell_type": "code",
   "source": [
    "total = compute_cost(x_train, y_train, tmp_w, tmp_b)\n",
    "print(total)"
   ],
   "id": "5f770a11f874efc7",
   "outputs": [
    {
     "name": "stdout",
     "output_type": "stream",
     "text": [
      "0.005748289351090199\n"
     ]
    }
   ],
   "execution_count": 53
  },
  {
   "metadata": {
    "ExecuteTime": {
     "end_time": "2025-01-31T10:22:23.171518Z",
     "start_time": "2025-01-31T10:22:23.164435Z"
    }
   },
   "cell_type": "code",
   "source": [
    "def compute_gradient(x, y, w, b):\n",
    "    m = x.shape[0]\n",
    "    dj_dw = 0\n",
    "    dj_db = 0\n",
    "\n",
    "    for i in range(m):\n",
    "        f_wb = w * x[i] + b\n",
    "        dj_dw_i = (f_wb - y[i]) * x[i]\n",
    "        dj_db_i = f_wb - y[i]\n",
    "        dj_db += dj_db_i\n",
    "        dj_dw += dj_dw_i\n",
    "\n",
    "    dj_dw = dj_dw / m\n",
    "    dj_db = dj_db / m\n",
    "\n",
    "    return dj_dw, dj_db"
   ],
   "id": "4e4ee79ad8ec2aab",
   "outputs": [],
   "execution_count": 54
  },
  {
   "metadata": {
    "ExecuteTime": {
     "end_time": "2025-01-31T10:22:25.272055Z",
     "start_time": "2025-01-31T10:22:25.263354Z"
    }
   },
   "cell_type": "code",
   "source": [
    "def gradient_descent(x, y, w_in, b_in, alpha, num_iters, cost_function, gradient_function):\n",
    "    J_history = []\n",
    "    p_history = []\n",
    "\n",
    "    b = b_in\n",
    "    w = w_in\n",
    "\n",
    "    for i in range(num_iters):\n",
    "        dj_dw, dj_db = gradient_function(x, y, w , b)\n",
    "        b = b - alpha * dj_db\n",
    "        w = w - alpha * dj_dw\n",
    "\n",
    "        if i<100000:\n",
    "            J_history.append( cost_function(x, y, w , b))\n",
    "            p_history.append([w,b])\n",
    "\n",
    "        if i% math.ceil(num_iters/10) == 0:\n",
    "            print(f\"Iteration {i:4}: Cost {J_history[-1]:0.2e} \",\n",
    "                  f\"dj_dw: {dj_dw: 0.3e}, dj_db: {dj_db: 0.3e}  \",\n",
    "                  f\"w: {w: 0.3e}, b:{b: 0.5e}\")\n",
    "\n",
    "    return w, b, J_history, p_history"
   ],
   "id": "251d86f179979bcb",
   "outputs": [],
   "execution_count": 55
  },
  {
   "metadata": {
    "ExecuteTime": {
     "end_time": "2025-01-31T10:33:52.147850Z",
     "start_time": "2025-01-31T10:29:23.110119Z"
    }
   },
   "cell_type": "code",
   "source": [
    "w_init = 0\n",
    "b_init = 0\n",
    "\n",
    "iterations = 10000\n",
    "tmp_alpha = 1.0e-2\n",
    "\n",
    "w_final, b_final, J_hist, p_hist = gradient_descent(x_train ,y_train, w_final, b_final, tmp_alpha,iterations, compute_cost, compute_gradient)\n",
    "print(f\"(w,b) found by gradient descent: ({w_final:8.4f},{b_final:8.4f})\")"
   ],
   "id": "d6da33ee3718d6ab",
   "outputs": [
    {
     "name": "stdout",
     "output_type": "stream",
     "text": [
      "Iteration    0: Cost 1.44e-04  dj_dw: -2.048e-04, dj_db:  4.753e-06   w:  2.138e-02, b: 5.10156e-03\n",
      "Iteration 1000: Cost 1.43e-04  dj_dw: -2.033e-04, dj_db:  4.718e-06   w:  2.342e-02, b: 5.05420e-03\n",
      "Iteration 2000: Cost 1.43e-04  dj_dw: -2.018e-04, dj_db:  4.684e-06   w:  2.544e-02, b: 5.00719e-03\n",
      "Iteration 3000: Cost 1.43e-04  dj_dw: -2.003e-04, dj_db:  4.650e-06   w:  2.745e-02, b: 4.96052e-03\n",
      "Iteration 4000: Cost 1.42e-04  dj_dw: -1.988e-04, dj_db:  4.616e-06   w:  2.945e-02, b: 4.91419e-03\n",
      "Iteration 5000: Cost 1.42e-04  dj_dw: -1.974e-04, dj_db:  4.582e-06   w:  3.143e-02, b: 4.86820e-03\n",
      "Iteration 6000: Cost 1.41e-04  dj_dw: -1.959e-04, dj_db:  4.549e-06   w:  3.339e-02, b: 4.82254e-03\n",
      "Iteration 7000: Cost 1.41e-04  dj_dw: -1.945e-04, dj_db:  4.516e-06   w:  3.535e-02, b: 4.77722e-03\n",
      "Iteration 8000: Cost 1.41e-04  dj_dw: -1.931e-04, dj_db:  4.483e-06   w:  3.728e-02, b: 4.73223e-03\n",
      "Iteration 9000: Cost 1.40e-04  dj_dw: -1.917e-04, dj_db:  4.450e-06   w:  3.921e-02, b: 4.68757e-03\n",
      "(w,b) found by gradient descent: (  0.0411,  0.0046)\n"
     ]
    }
   ],
   "execution_count": 57
  },
  {
   "metadata": {
    "ExecuteTime": {
     "end_time": "2025-01-30T22:21:57.359974Z",
     "start_time": "2025-01-30T22:21:57.101639Z"
    }
   },
   "cell_type": "code",
   "source": [
    "fig, (ax1, ax2) = plt.subplots(1, 2, constrained_layout=True, figsize=(12,4))\n",
    "ax1.plot(J_hist[:100])\n",
    "ax2.plot(1000 + np.arange(len(J_hist[1000:])), J_hist[1000:])\n",
    "ax1.set_title(\"Cost vs. iteration(start)\");  ax2.set_title(\"Cost vs. iteration (end)\")\n",
    "ax1.set_ylabel('Cost')            ;  ax2.set_ylabel('Cost')\n",
    "ax1.set_xlabel('iteration step')  ;  ax2.set_xlabel('iteration step')\n",
    "plt.show()"
   ],
   "id": "367c8d4aafae5b19",
   "outputs": [
    {
     "data": {
      "text/plain": [
       "<Figure size 1200x400 with 2 Axes>"
      ],
      "image/png": "[encoded data removed]"
     },
     "metadata": {},
     "output_type": "display_data"
    }
   ],
   "execution_count": 178
  }
 ],
 "metadata": {
  "kernelspec": {
   "name": "python3",
   "language": "python",
   "display_name": "Python 3 (ipykernel)"
  }
 },
 "nbformat": 5,
 "nbformat_minor": 9
}
